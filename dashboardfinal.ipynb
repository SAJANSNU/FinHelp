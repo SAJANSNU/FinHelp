{
 "cells": [
  {
   "cell_type": "code",
   "execution_count": 11,
   "metadata": {},
   "outputs": [
    {
     "name": "stdout",
     "output_type": "stream",
     "text": [
      "Requirement already satisfied: pytesseract in c:\\users\\rohit\\appdata\\local\\programs\\python\\python311\\lib\\site-packages (0.3.10)"
     ]
    },
    {
     "name": "stderr",
     "output_type": "stream",
     "text": [
      "\n",
      "[notice] A new release of pip is available: 23.2.1 -> 24.0\n",
      "[notice] To update, run: python.exe -m pip install --upgrade pip\n"
     ]
    },
    {
     "name": "stdout",
     "output_type": "stream",
     "text": [
      "\n",
      "Requirement already satisfied: packaging>=21.3 in c:\\users\\rohit\\appdata\\local\\programs\\python\\python311\\lib\\site-packages (from pytesseract) (23.2)\n",
      "Requirement already satisfied: Pillow>=8.0.0 in c:\\users\\rohit\\appdata\\local\\programs\\python\\python311\\lib\\site-packages (from pytesseract) (9.5.0)\n"
     ]
    }
   ],
   "source": [
    "!pip install pytesseract"
   ]
  },
  {
   "cell_type": "code",
   "execution_count": 47,
   "metadata": {},
   "outputs": [
    {
     "name": "stdout",
     "output_type": "stream",
     "text": [
      "Launching server at http://localhost:50380\n"
     ]
    },
    {
     "data": {
      "text/plain": [
       "<panel.io.server.Server at 0x264072a1610>"
      ]
     },
     "execution_count": 47,
     "metadata": {},
     "output_type": "execute_result"
    }
   ],
   "source": [
    "#final chatbot\n",
    "import panel as pn\n",
    "from langchain_community.llms import Ollama\n",
    "\n",
    "# Load the Ollama language model\n",
    "llm = Ollama(model=\"Finance_l2\")\n",
    "\n",
    "# Create tabs for different sections of the dashboard\n",
    "text_input = pn.widgets.TextInput(name=\"Text Input\", placeholder=\"Enter your text here\")\n",
    "invoke_button = pn.widgets.Button(name=\"Invoke Model\", button_type=\"primary\")\n",
    "continue_button = pn.widgets.Button(name=\"Continue\")\n",
    "exit_button = pn.widgets.Button(name=\"Exit\")\n",
    "output_text = pn.pane.Markdown(\"\", width=800)\n",
    "prompt_history = []\n",
    "\n",
    "def update_output_text():\n",
    "    output_text.object = \"\\n\\n\".join(prompt_history)\n",
    "\n",
    "def invoke_model(event):\n",
    "    global prompt_history\n",
    "    input_text = text_input.value\n",
    "    output = llm.invoke(input_text)\n",
    "    prompt_history.append(f\"Prompt: {input_text}\\n\\n*Answer:* {output}\")\n",
    "    update_output_text()\n",
    "    text_input.disabled = True\n",
    "    invoke_button.disabled = True\n",
    "    continue_button.disabled = False\n",
    "    exit_button.disabled = False\n",
    "\n",
    "def continue_prompt(event):\n",
    "    text_input.disabled = False\n",
    "    invoke_button.disabled = False\n",
    "    continue_button.disabled = True\n",
    "    exit_button.disabled = True\n",
    "\n",
    "def exit_prompt(event):\n",
    "    global prompt_history\n",
    "    prompt_history = []\n",
    "    update_output_text()\n",
    "    continue_prompt(event)\n",
    "\n",
    "invoke_button.on_click(invoke_model)\n",
    "continue_button.on_click(continue_prompt)\n",
    "exit_button.on_click(exit_prompt)\n",
    "\n",
    "# Create tabs for different sections of the dashboard\n",
    "tab1_content = pn.Column(\n",
    "    pn.pane.Markdown(\"## Hi, I am your personal Financial assistant! \"),\n",
    "    pn.pane.Markdown(\"### Enter your prompt here \"),\n",
    "    text_input,\n",
    "    invoke_button,\n",
    "    output_text,\n",
    "    pn.Row(continue_button, exit_button)\n",
    ")\n",
    "\n",
    "# Create the main layout for the Ollama language model section\n",
    "ollama_main_layout = pn.Row(\n",
    "    pn.Spacer(width=200),  # Spacer to center-align content\n",
    "    pn.Column(tab1_content, align=\"center\"),\n",
    "    pn.Spacer(width=200),  # Spacer to center-align content\n",
    ")\n",
    "\n",
    "# Create the sidebar for the Ollama language model section\n",
    "ollama_sidebar = pn.Column(\n",
    "    pn.pane.Markdown(\"# Ollama Language Model\"),\n",
    "    pn.pane.Markdown(\"This dashboard allows you to interact with the Ollama language model.\"),\n",
    "    pn.pane.PNG(\"ollama.png\", sizing_mode=\"scale_both\")\n",
    ")\n",
    "\n",
    "# Create the dashboard template for the Ollama language model section\n",
    "ollama_template = pn.template.FastListTemplate(\n",
    "    title='Financial Planner',\n",
    "    header_background=\"#183a1d\",\n",
    "    sidebar=ollama_sidebar,\n",
    "    main=ollama_main_layout\n",
    ")\n",
    "\n",
    "# Show the Ollama language model dashboard\n",
    "ollama_template.show()"
   ]
  },
  {
   "cell_type": "code",
   "execution_count": 49,
   "metadata": {},
   "outputs": [
    {
     "name": "stdout",
     "output_type": "stream",
     "text": [
      "Launching server at http://localhost:50409\n"
     ]
    },
    {
     "data": {
      "text/plain": [
       "<panel.io.server.Server at 0x26407a41610>"
      ]
     },
     "execution_count": 49,
     "metadata": {},
     "output_type": "execute_result"
    }
   ],
   "source": [
    "#final for ocr\n",
    "import panel as pn\n",
    "from langchain_community.llms import Ollama\n",
    "from PIL import Image\n",
    "import io\n",
    "import pytesseract\n",
    "\n",
    "# Load the Ollama language model\n",
    "llm = Ollama(model=\"Finance_l2\")\n",
    "\n",
    "# Set the path to the Tesseract executable (update this with your installation path)\n",
    "pytesseract.pytesseract.tesseract_cmd = r'C:\\Program Files\\Tesseract-OCR\\tesseract.exe'\n",
    "\n",
    "\n",
    "# Create tabs for different sections of the dashboard\n",
    "tab1_content = pn.Column(\n",
    "    pn.pane.Markdown(\"## Hi, I am your personal Financial assistant! \"),\n",
    "    pn.widgets.FileInput(accept=\".png, .jpg, .jpeg\", name=\"Upload Image\"),\n",
    "    pn.widgets.Button(name=\"Perform OCR & Invoke Model\", button_type=\"primary\"),\n",
    "    pn.pane.Str(name=\"Output:\", width=800)  # Pane to display the output\n",
    ")\n",
    "\n",
    "# Create the main layout for the Ollama language model section\n",
    "ollama_main_layout = pn.Row(\n",
    "    pn.Spacer(width=200),  # Spacer to center-align content\n",
    "    pn.Column(tab1_content, align=\"center\"),\n",
    "    pn.Spacer(width=200),  # Spacer to center-align content\n",
    ")\n",
    "\n",
    "# Create the dashboard template for the Ollama language model section\n",
    "ollama_template = pn.template.FastListTemplate(\n",
    "    title='Financial Planner',\n",
    "    header_background=\"#183a1d\",\n",
    "    main=ollama_main_layout\n",
    ")\n",
    "\n",
    "# Define a callback to perform OCR and invoke the model\n",
    "def perform_ocr_and_invoke_model(event):\n",
    "    # Get the uploaded image file\n",
    "    uploaded_image = tab1_content[1].value\n",
    "    \n",
    "    if uploaded_image is not None:\n",
    "        # Read the image data\n",
    "        image_data = uploaded_image\n",
    "        \n",
    "        # Open the image using PIL\n",
    "        img = Image.open(io.BytesIO(image_data))\n",
    "        \n",
    "        # Perform OCR on the image\n",
    "        ocr_result = pytesseract.image_to_string(img)\n",
    "        \n",
    "        # Invoke the model with the OCR result\n",
    "        output_text = llm.invoke(ocr_result)\n",
    "        \n",
    "        # Update the output pane with the model output\n",
    "        tab1_content[-1] = pn.pane.Str(output_text, width=800)\n",
    "    else:\n",
    "        tab1_content[-1] = pn.pane.Str(\"Please upload an image first.\", width=800)\n",
    "\n",
    "# Assign the callback to the button\n",
    "tab1_content[2].on_click(perform_ocr_and_invoke_model)\n",
    "\n",
    "# Show the Ollama language model dashboard\n",
    "ollama_template.show()\n",
    "\n"
   ]
  },
  {
   "cell_type": "code",
   "execution_count": 48,
   "metadata": {},
   "outputs": [
    {
     "name": "stdout",
     "output_type": "stream",
     "text": [
      "Launching server at http://localhost:50392\n"
     ]
    },
    {
     "data": {
      "text/plain": [
       "<panel.io.server.Server at 0x26407995890>"
      ]
     },
     "execution_count": 48,
     "metadata": {},
     "output_type": "execute_result"
    }
   ],
   "source": [
    "#piechart bargraph\n",
    "import pandas as pd\n",
    "import numpy as np\n",
    "import plotly.express as px\n",
    "import panel as pn\n",
    "\n",
    "# Read transactions_2022_2023_categorized.csv\n",
    "df = pd.read_csv('transactions_2022_2023_categorized.csv')\n",
    "# Add year and month columns\n",
    "df['Year'] = pd.to_datetime(df['Date']).dt.year\n",
    "df['Month'] = pd.to_datetime(df['Date']).dt.month\n",
    "df['Month Name'] = pd.to_datetime(df['Date']).dt.strftime(\"%b\")\n",
    "# Remove \"Transaction\" and \"Transaction vs category\" columns\n",
    "df = df.drop(columns=['Transaction', 'Transaction vs category'])\n",
    "\n",
    "# Display categorized data table\n",
    "categorized_table = pn.widgets.DataFrame(df)\n",
    "\n",
    "def make_pie_chart(df, year, label):\n",
    "    # Filter the dataset for expense transactions\n",
    "    sub_df = df[(df['Expense/Income'] == label) & (df['Year'] == year)]\n",
    "\n",
    "    color_scale = px.colors.qualitative.Set2\n",
    "    \n",
    "    pie_fig = px.pie(sub_df, values='Amount (EUR)', names='Category', color_discrete_sequence = color_scale)\n",
    "    pie_fig.update_traces(textposition='inside', direction ='clockwise', hole=0.3, textinfo=\"label+percent\")\n",
    "\n",
    "    total_expense = df[(df['Expense/Income'] == 'Expense') & (df['Year'] == year)]['Amount (EUR)'].sum() \n",
    "    total_income = df[(df['Expense/Income'] == 'Income') & (df['Year'] == year)]['Amount (EUR)'].sum()\n",
    "    \n",
    "    if label == 'Expense':\n",
    "        total_text = \"€ \" + str(round(total_expense))\n",
    "\n",
    "        # Saving rate:\n",
    "        saving_rate = round((total_income - total_expense)/total_income*100)\n",
    "        saving_rate_text = \": Saving rate \" + str(saving_rate) + \"%\"\n",
    "    else:\n",
    "        saving_rate_text = \"\"\n",
    "        total_text = \"€ \" + str(round(total_income))\n",
    "\n",
    "    pie_fig.update_layout(uniformtext_minsize=10, \n",
    "                        uniformtext_mode='hide',\n",
    "                        title=dict(text=label+\" Breakdown \" + str(year) + saving_rate_text),\n",
    "                        # Add annotations in the center of the donut.\n",
    "                        annotations=[\n",
    "                            dict(\n",
    "                                text=total_text, \n",
    "                                # Square unit grid starting at bottom left of page\n",
    "                                x=0.5, y=0.5, font_size=12,\n",
    "                                # Hide the arrow that points to the [x,y] coordinate\n",
    "                                showarrow=False\n",
    "                            )\n",
    "                        ]\n",
    "                    )\n",
    "    return pie_fig\n",
    "\n",
    "def make_monthly_bar_chart(df, year, label):\n",
    "    df = df[(df['Expense/Income'] == label) & (df['Year'] == year)]\n",
    "    total_by_month = (df.groupby(['Month', 'Month Name'])['Amount (EUR)'].sum()\n",
    "                        .to_frame()\n",
    "                        .reset_index()\n",
    "                        .sort_values(by='Month')  \n",
    "                        .reset_index(drop=True))\n",
    "    if label == \"Income\":\n",
    "        color_scale = px.colors.sequential.YlGn\n",
    "    if label == \"Expense\":\n",
    "        color_scale = px.colors.sequential.OrRd\n",
    "    \n",
    "    bar_fig = px.bar(total_by_month, x='Month Name', y='Amount (EUR)', text_auto='.2s', title=label+\" per month\", color='Amount (EUR)', color_continuous_scale=color_scale)\n",
    "    # bar_fig.update_traces(marker_color='lightslategrey')\n",
    "    \n",
    "    return bar_fig\n",
    "\n",
    "# Pie charts\n",
    "income_pie_fig_2022 = make_pie_chart(df, 2022, 'Income')\n",
    "expense_pie_fig_2022 = make_pie_chart(df, 2022, 'Expense')  \n",
    "income_pie_fig_2023 = make_pie_chart(df, 2023, 'Income')\n",
    "expense_pie_fig_2023 = make_pie_chart(df, 2023, 'Expense')\n",
    "\n",
    "# Bar charts\n",
    "income_monthly_2022 = make_monthly_bar_chart(df, 2022, 'Income')\n",
    "expense_monthly_2022 = make_monthly_bar_chart(df, 2022, 'Expense')\n",
    "income_monthly_2023 = make_monthly_bar_chart(df, 2023, 'Income')\n",
    "expense_monthly_2023 = make_monthly_bar_chart(df, 2023, 'Expense')\n",
    "\n",
    "# Create tabs\n",
    "tabs = pn.Tabs(\n",
    "                        ('2022', pn.Column(pn.Row(income_pie_fig_2022, expense_pie_fig_2022),\n",
    "                                                pn.Row(income_monthly_2022, expense_monthly_2022))),\n",
    "                        ('2023', pn.Column(pn.Row(income_pie_fig_2023, expense_pie_fig_2023),\n",
    "                                                pn.Row(income_monthly_2023, expense_monthly_2023))\n",
    "                        )\n",
    "                )\n",
    "\n",
    "# Dashboard template\n",
    "template = pn.template.FastListTemplate(\n",
    "    title='Personal Finance Dashboard',\n",
    "    main=[pn.Row(\n",
    "        categorized_table,\n",
    "        tabs\n",
    "    )]\n",
    ")\n",
    "\n",
    "template.show()"
   ]
  },
  {
   "cell_type": "code",
   "execution_count": null,
   "metadata": {},
   "outputs": [],
   "source": []
  }
 ],
 "metadata": {
  "kernelspec": {
   "display_name": "Python 3 (ipykernel)",
   "language": "python",
   "name": "python3"
  },
  "language_info": {
   "codemirror_mode": {
    "name": "ipython",
    "version": 3
   },
   "file_extension": ".py",
   "mimetype": "text/x-python",
   "name": "python",
   "nbconvert_exporter": "python",
   "pygments_lexer": "ipython3",
   "version": "3.11.5"
  }
 },
 "nbformat": 4,
 "nbformat_minor": 4
}
