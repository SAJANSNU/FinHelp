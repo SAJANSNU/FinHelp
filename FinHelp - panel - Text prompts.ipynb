{
 "cells": [
  {
   "cell_type": "code",
   "execution_count": 7,
   "id": "a7956af1",
   "metadata": {},
   "outputs": [
    {
     "name": "stdout",
     "output_type": "stream",
     "text": [
      "Launching server at http://localhost:52776\n"
     ]
    },
    {
     "data": {
      "text/plain": [
       "<panel.io.server.Server at 0x18a1b15c280>"
      ]
     },
     "execution_count": 7,
     "metadata": {},
     "output_type": "execute_result"
    }
   ],
   "source": [
    "import panel as pn\n",
    "from langchain_community.llms import Ollama\n",
    "\n",
    "# Load the Ollama language model\n",
    "llm = Ollama(model=\"llama2\")\n",
    "\n",
    "# Create tabs for different sections of the dashboard\n",
    "text_input = pn.widgets.TextInput(name=\"Text Input\", placeholder=\"Enter your text here\")\n",
    "invoke_button = pn.widgets.Button(name=\"Invoke Model\", button_type=\"primary\")\n",
    "continue_button = pn.widgets.Button(name=\"Continue\")\n",
    "exit_button = pn.widgets.Button(name=\"Exit\")\n",
    "output_text = pn.pane.Markdown(\"\", width=800)\n",
    "prompt_history = []\n",
    "\n",
    "def update_output_text():\n",
    "    output_text.object = \"\\n\\n\".join(prompt_history)\n",
    "\n",
    "def invoke_model(event):\n",
    "    global prompt_history\n",
    "    input_text = text_input.value\n",
    "    output = llm.invoke(input_text)\n",
    "    prompt_history.append(f\"Prompt: {input_text}\\n\\n*Answer:* {output}\")\n",
    "    update_output_text()\n",
    "    text_input.disabled = True\n",
    "    invoke_button.disabled = True\n",
    "    continue_button.disabled = False\n",
    "    exit_button.disabled = False\n",
    "\n",
    "def continue_prompt(event):\n",
    "    text_input.disabled = False\n",
    "    invoke_button.disabled = False\n",
    "    continue_button.disabled = True\n",
    "    exit_button.disabled = True\n",
    "\n",
    "def exit_prompt(event):\n",
    "    global prompt_history\n",
    "    prompt_history = []\n",
    "    update_output_text()\n",
    "    continue_prompt(event)\n",
    "\n",
    "invoke_button.on_click(invoke_model)\n",
    "continue_button.on_click(continue_prompt)\n",
    "exit_button.on_click(exit_prompt)\n",
    "\n",
    "# Create tabs for different sections of the dashboard\n",
    "tab1_content = pn.Column(\n",
    "    pn.pane.Markdown(\"## Hi, I am your personal Financial assistant! \"),\n",
    "    pn.pane.Markdown(\"### Enter your prompt here \"),\n",
    "    text_input,\n",
    "    invoke_button,\n",
    "    output_text,\n",
    "    pn.Row(continue_button, exit_button)\n",
    ")\n",
    "\n",
    "# Create the main layout for the Ollama language model section\n",
    "ollama_main_layout = pn.Row(\n",
    "    pn.Spacer(width=200),  # Spacer to center-align content\n",
    "    pn.Column(tab1_content, align=\"center\"),\n",
    "    pn.Spacer(width=200),  # Spacer to center-align content\n",
    ")\n",
    "\n",
    "# Create the sidebar for the Ollama language model section\n",
    "ollama_sidebar = pn.Column(\n",
    "    pn.pane.Markdown(\"# Ollama Language Model\"),\n",
    "    pn.pane.Markdown(\"This dashboard allows you to interact with the Ollama language model.\"),\n",
    "    pn.pane.PNG(r\"C:\\Users\\SAJAN\\Downloads\\ollama.png\", sizing_mode=\"scale_both\")\n",
    ")\n",
    "\n",
    "# Create the dashboard template for the Ollama language model section\n",
    "ollama_template = pn.template.FastListTemplate(\n",
    "    title='Financial Planner',\n",
    "    header_background=\"#183a1d\",\n",
    "    sidebar=ollama_sidebar,\n",
    "    main=ollama_main_layout\n",
    ")\n",
    "\n",
    "# Show the Ollama language model dashboard\n",
    "ollama_template.show()"
   ]
  },
  {
   "cell_type": "code",
   "execution_count": null,
   "id": "3c96435e",
   "metadata": {},
   "outputs": [],
   "source": []
  }
 ],
 "metadata": {
  "kernelspec": {
   "display_name": "Python 3 (ipykernel)",
   "language": "python",
   "name": "python3"
  },
  "language_info": {
   "codemirror_mode": {
    "name": "ipython",
    "version": 3
   },
   "file_extension": ".py",
   "mimetype": "text/x-python",
   "name": "python",
   "nbconvert_exporter": "python",
   "pygments_lexer": "ipython3",
   "version": "3.10.9"
  }
 },
 "nbformat": 4,
 "nbformat_minor": 5
}
